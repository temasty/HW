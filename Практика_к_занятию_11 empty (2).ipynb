{
 "cells": [
  {
   "cell_type": "markdown",
   "metadata": {
    "id": "pDrecLU-4QjS"
   },
   "source": [
    "# Практика"
   ]
  },
  {
   "cell_type": "code",
   "execution_count": 1,
   "metadata": {
    "collapsed": true
   },
   "outputs": [
    {
     "name": "stderr",
     "output_type": "stream",
     "text": [
      "\n",
      "A module that was compiled using NumPy 1.x cannot be run in\n",
      "NumPy 2.0.2 as it may crash. To support both 1.x and 2.x\n",
      "versions of NumPy, modules must be compiled with NumPy 2.0.\n",
      "Some module may need to rebuild instead e.g. with 'pybind11>=2.12'.\n",
      "\n",
      "If you are a user of the module, the easiest solution will be to\n",
      "downgrade to 'numpy<2' or try to upgrade the affected module.\n",
      "We expect that some modules will need time to support NumPy 2.\n",
      "\n",
      "Traceback (most recent call last):  File \"C:\\Anaconda3\\lib\\runpy.py\", line 197, in _run_module_as_main\n",
      "    return _run_code(code, main_globals, None,\n",
      "  File \"C:\\Anaconda3\\lib\\runpy.py\", line 87, in _run_code\n",
      "    exec(code, run_globals)\n",
      "  File \"C:\\Anaconda3\\lib\\site-packages\\ipykernel_launcher.py\", line 16, in <module>\n",
      "    app.launch_new_instance()\n",
      "  File \"C:\\Anaconda3\\lib\\site-packages\\traitlets\\config\\application.py\", line 846, in launch_instance\n",
      "    app.start()\n",
      "  File \"C:\\Anaconda3\\lib\\site-packages\\ipykernel\\kernelapp.py\", line 677, in start\n",
      "    self.io_loop.start()\n",
      "  File \"C:\\Anaconda3\\lib\\site-packages\\tornado\\platform\\asyncio.py\", line 199, in start\n",
      "    self.asyncio_loop.run_forever()\n",
      "  File \"C:\\Anaconda3\\lib\\asyncio\\base_events.py\", line 596, in run_forever\n",
      "    self._run_once()\n",
      "  File \"C:\\Anaconda3\\lib\\asyncio\\base_events.py\", line 1890, in _run_once\n",
      "    handle._run()\n",
      "  File \"C:\\Anaconda3\\lib\\asyncio\\events.py\", line 80, in _run\n",
      "    self._context.run(self._callback, *self._args)\n",
      "  File \"C:\\Anaconda3\\lib\\site-packages\\ipykernel\\kernelbase.py\", line 457, in dispatch_queue\n",
      "    await self.process_one()\n",
      "  File \"C:\\Anaconda3\\lib\\site-packages\\ipykernel\\kernelbase.py\", line 446, in process_one\n",
      "    await dispatch(*args)\n",
      "  File \"C:\\Anaconda3\\lib\\site-packages\\ipykernel\\kernelbase.py\", line 353, in dispatch_shell\n",
      "    await result\n",
      "  File \"C:\\Anaconda3\\lib\\site-packages\\ipykernel\\kernelbase.py\", line 648, in execute_request\n",
      "    reply_content = await reply_content\n",
      "  File \"C:\\Anaconda3\\lib\\site-packages\\ipykernel\\ipkernel.py\", line 353, in do_execute\n",
      "    res = shell.run_cell(code, store_history=store_history, silent=silent)\n",
      "  File \"C:\\Anaconda3\\lib\\site-packages\\ipykernel\\zmqshell.py\", line 533, in run_cell\n",
      "    return super(ZMQInteractiveShell, self).run_cell(*args, **kwargs)\n",
      "  File \"C:\\Anaconda3\\lib\\site-packages\\IPython\\core\\interactiveshell.py\", line 2901, in run_cell\n",
      "    result = self._run_cell(\n",
      "  File \"C:\\Anaconda3\\lib\\site-packages\\IPython\\core\\interactiveshell.py\", line 2947, in _run_cell\n",
      "    return runner(coro)\n",
      "  File \"C:\\Anaconda3\\lib\\site-packages\\IPython\\core\\async_helpers.py\", line 68, in _pseudo_sync_runner\n",
      "    coro.send(None)\n",
      "  File \"C:\\Anaconda3\\lib\\site-packages\\IPython\\core\\interactiveshell.py\", line 3172, in run_cell_async\n",
      "    has_raised = await self.run_ast_nodes(code_ast.body, cell_name,\n",
      "  File \"C:\\Anaconda3\\lib\\site-packages\\IPython\\core\\interactiveshell.py\", line 3364, in run_ast_nodes\n",
      "    if (await self.run_code(code, result,  async_=asy)):\n",
      "  File \"C:\\Anaconda3\\lib\\site-packages\\IPython\\core\\interactiveshell.py\", line 3444, in run_code\n",
      "    exec(code_obj, self.user_global_ns, self.user_ns)\n",
      "  File \"C:\\Users\\02003713\\AppData\\Local\\Temp/ipykernel_11024/66352966.py\", line 1, in <module>\n",
      "    import pandas as pd\n",
      "  File \"C:\\Anaconda3\\lib\\site-packages\\pandas\\__init__.py\", line 77, in <module>\n",
      "    from pandas.core.api import (\n",
      "  File \"C:\\Anaconda3\\lib\\site-packages\\pandas\\core\\api.py\", line 28, in <module>\n",
      "    from pandas.core.arrays import Categorical\n",
      "  File \"C:\\Anaconda3\\lib\\site-packages\\pandas\\core\\arrays\\__init__.py\", line 1, in <module>\n",
      "    from pandas.core.arrays.arrow import ArrowExtensionArray\n",
      "  File \"C:\\Anaconda3\\lib\\site-packages\\pandas\\core\\arrays\\arrow\\__init__.py\", line 5, in <module>\n",
      "    from pandas.core.arrays.arrow.array import ArrowExtensionArray\n",
      "  File \"C:\\Anaconda3\\lib\\site-packages\\pandas\\core\\arrays\\arrow\\array.py\", line 50, in <module>\n",
      "    from pandas.core import (\n",
      "  File \"C:\\Anaconda3\\lib\\site-packages\\pandas\\core\\ops\\__init__.py\", line 8, in <module>\n",
      "    from pandas.core.ops.array_ops import (\n",
      "  File \"C:\\Anaconda3\\lib\\site-packages\\pandas\\core\\ops\\array_ops.py\", line 56, in <module>\n",
      "    from pandas.core.computation import expressions\n",
      "  File \"C:\\Anaconda3\\lib\\site-packages\\pandas\\core\\computation\\expressions.py\", line 21, in <module>\n",
      "    from pandas.core.computation.check import NUMEXPR_INSTALLED\n",
      "  File \"C:\\Anaconda3\\lib\\site-packages\\pandas\\core\\computation\\check.py\", line 5, in <module>\n",
      "    ne = import_optional_dependency(\"numexpr\", errors=\"warn\")\n",
      "  File \"C:\\Anaconda3\\lib\\site-packages\\pandas\\compat\\_optional.py\", line 135, in import_optional_dependency\n",
      "    module = importlib.import_module(name)\n",
      "  File \"C:\\Anaconda3\\lib\\importlib\\__init__.py\", line 127, in import_module\n",
      "    return _bootstrap._gcd_import(name[level:], package, level)\n",
      "  File \"C:\\Anaconda3\\lib\\site-packages\\numexpr\\__init__.py\", line 26, in <module>\n",
      "    from numexpr.interpreter import MAX_THREADS, use_vml, __BLOCK_SIZE1__\n"
     ]
    },
    {
     "ename": "AttributeError",
     "evalue": "_ARRAY_API not found",
     "output_type": "error",
     "traceback": [
      "\u001b[1;31m---------------------------------------------------------------------------\u001b[0m",
      "\u001b[1;31mAttributeError\u001b[0m                            Traceback (most recent call last)",
      "\u001b[1;31mAttributeError\u001b[0m: _ARRAY_API not found"
     ]
    },
    {
     "name": "stderr",
     "output_type": "stream",
     "text": [
      "\n",
      "A module that was compiled using NumPy 1.x cannot be run in\n",
      "NumPy 2.0.2 as it may crash. To support both 1.x and 2.x\n",
      "versions of NumPy, modules must be compiled with NumPy 2.0.\n",
      "Some module may need to rebuild instead e.g. with 'pybind11>=2.12'.\n",
      "\n",
      "If you are a user of the module, the easiest solution will be to\n",
      "downgrade to 'numpy<2' or try to upgrade the affected module.\n",
      "We expect that some modules will need time to support NumPy 2.\n",
      "\n",
      "Traceback (most recent call last):  File \"C:\\Anaconda3\\lib\\runpy.py\", line 197, in _run_module_as_main\n",
      "    return _run_code(code, main_globals, None,\n",
      "  File \"C:\\Anaconda3\\lib\\runpy.py\", line 87, in _run_code\n",
      "    exec(code, run_globals)\n",
      "  File \"C:\\Anaconda3\\lib\\site-packages\\ipykernel_launcher.py\", line 16, in <module>\n",
      "    app.launch_new_instance()\n",
      "  File \"C:\\Anaconda3\\lib\\site-packages\\traitlets\\config\\application.py\", line 846, in launch_instance\n",
      "    app.start()\n",
      "  File \"C:\\Anaconda3\\lib\\site-packages\\ipykernel\\kernelapp.py\", line 677, in start\n",
      "    self.io_loop.start()\n",
      "  File \"C:\\Anaconda3\\lib\\site-packages\\tornado\\platform\\asyncio.py\", line 199, in start\n",
      "    self.asyncio_loop.run_forever()\n",
      "  File \"C:\\Anaconda3\\lib\\asyncio\\base_events.py\", line 596, in run_forever\n",
      "    self._run_once()\n",
      "  File \"C:\\Anaconda3\\lib\\asyncio\\base_events.py\", line 1890, in _run_once\n",
      "    handle._run()\n",
      "  File \"C:\\Anaconda3\\lib\\asyncio\\events.py\", line 80, in _run\n",
      "    self._context.run(self._callback, *self._args)\n",
      "  File \"C:\\Anaconda3\\lib\\site-packages\\ipykernel\\kernelbase.py\", line 457, in dispatch_queue\n",
      "    await self.process_one()\n",
      "  File \"C:\\Anaconda3\\lib\\site-packages\\ipykernel\\kernelbase.py\", line 446, in process_one\n",
      "    await dispatch(*args)\n",
      "  File \"C:\\Anaconda3\\lib\\site-packages\\ipykernel\\kernelbase.py\", line 353, in dispatch_shell\n",
      "    await result\n",
      "  File \"C:\\Anaconda3\\lib\\site-packages\\ipykernel\\kernelbase.py\", line 648, in execute_request\n",
      "    reply_content = await reply_content\n",
      "  File \"C:\\Anaconda3\\lib\\site-packages\\ipykernel\\ipkernel.py\", line 353, in do_execute\n",
      "    res = shell.run_cell(code, store_history=store_history, silent=silent)\n",
      "  File \"C:\\Anaconda3\\lib\\site-packages\\ipykernel\\zmqshell.py\", line 533, in run_cell\n",
      "    return super(ZMQInteractiveShell, self).run_cell(*args, **kwargs)\n",
      "  File \"C:\\Anaconda3\\lib\\site-packages\\IPython\\core\\interactiveshell.py\", line 2901, in run_cell\n",
      "    result = self._run_cell(\n",
      "  File \"C:\\Anaconda3\\lib\\site-packages\\IPython\\core\\interactiveshell.py\", line 2947, in _run_cell\n",
      "    return runner(coro)\n",
      "  File \"C:\\Anaconda3\\lib\\site-packages\\IPython\\core\\async_helpers.py\", line 68, in _pseudo_sync_runner\n",
      "    coro.send(None)\n",
      "  File \"C:\\Anaconda3\\lib\\site-packages\\IPython\\core\\interactiveshell.py\", line 3172, in run_cell_async\n",
      "    has_raised = await self.run_ast_nodes(code_ast.body, cell_name,\n",
      "  File \"C:\\Anaconda3\\lib\\site-packages\\IPython\\core\\interactiveshell.py\", line 3364, in run_ast_nodes\n",
      "    if (await self.run_code(code, result,  async_=asy)):\n",
      "  File \"C:\\Anaconda3\\lib\\site-packages\\IPython\\core\\interactiveshell.py\", line 3444, in run_code\n",
      "    exec(code_obj, self.user_global_ns, self.user_ns)\n",
      "  File \"C:\\Users\\02003713\\AppData\\Local\\Temp/ipykernel_11024/66352966.py\", line 1, in <module>\n",
      "    import pandas as pd\n",
      "  File \"C:\\Anaconda3\\lib\\site-packages\\pandas\\__init__.py\", line 77, in <module>\n",
      "    from pandas.core.api import (\n",
      "  File \"C:\\Anaconda3\\lib\\site-packages\\pandas\\core\\api.py\", line 28, in <module>\n",
      "    from pandas.core.arrays import Categorical\n",
      "  File \"C:\\Anaconda3\\lib\\site-packages\\pandas\\core\\arrays\\__init__.py\", line 1, in <module>\n",
      "    from pandas.core.arrays.arrow import ArrowExtensionArray\n",
      "  File \"C:\\Anaconda3\\lib\\site-packages\\pandas\\core\\arrays\\arrow\\__init__.py\", line 5, in <module>\n",
      "    from pandas.core.arrays.arrow.array import ArrowExtensionArray\n",
      "  File \"C:\\Anaconda3\\lib\\site-packages\\pandas\\core\\arrays\\arrow\\array.py\", line 64, in <module>\n",
      "    from pandas.core.arrays.masked import BaseMaskedArray\n",
      "  File \"C:\\Anaconda3\\lib\\site-packages\\pandas\\core\\arrays\\masked.py\", line 60, in <module>\n",
      "    from pandas.core import (\n",
      "  File \"C:\\Anaconda3\\lib\\site-packages\\pandas\\core\\nanops.py\", line 52, in <module>\n",
      "    bn = import_optional_dependency(\"bottleneck\", errors=\"warn\")\n",
      "  File \"C:\\Anaconda3\\lib\\site-packages\\pandas\\compat\\_optional.py\", line 135, in import_optional_dependency\n",
      "    module = importlib.import_module(name)\n",
      "  File \"C:\\Anaconda3\\lib\\importlib\\__init__.py\", line 127, in import_module\n",
      "    return _bootstrap._gcd_import(name[level:], package, level)\n",
      "  File \"C:\\Anaconda3\\lib\\site-packages\\bottleneck\\__init__.py\", line 2, in <module>\n",
      "    from .reduce import (\n"
     ]
    },
    {
     "ename": "AttributeError",
     "evalue": "_ARRAY_API not found",
     "output_type": "error",
     "traceback": [
      "\u001b[1;31m---------------------------------------------------------------------------\u001b[0m",
      "\u001b[1;31mAttributeError\u001b[0m                            Traceback (most recent call last)",
      "\u001b[1;31mAttributeError\u001b[0m: _ARRAY_API not found"
     ]
    },
    {
     "ename": "AttributeError",
     "evalue": "module 'matplotlib.cm' has no attribute 'register_cmap'",
     "output_type": "error",
     "traceback": [
      "\u001b[1;31m---------------------------------------------------------------------------\u001b[0m",
      "\u001b[1;31mAttributeError\u001b[0m                            Traceback (most recent call last)",
      "\u001b[1;32m~\\AppData\\Local\\Temp/ipykernel_11024/66352966.py\u001b[0m in \u001b[0;36m<module>\u001b[1;34m\u001b[0m\n\u001b[0;32m      8\u001b[0m \u001b[1;32mimport\u001b[0m \u001b[0mwarnings\u001b[0m\u001b[1;33m\u001b[0m\u001b[1;33m\u001b[0m\u001b[0m\n\u001b[0;32m      9\u001b[0m \u001b[0mwarnings\u001b[0m\u001b[1;33m.\u001b[0m\u001b[0mfilterwarnings\u001b[0m\u001b[1;33m(\u001b[0m\u001b[1;34m'ignore'\u001b[0m\u001b[1;33m)\u001b[0m\u001b[1;33m\u001b[0m\u001b[1;33m\u001b[0m\u001b[0m\n\u001b[1;32m---> 10\u001b[1;33m \u001b[1;32mimport\u001b[0m \u001b[0mseaborn\u001b[0m \u001b[1;32mas\u001b[0m \u001b[0msns\u001b[0m\u001b[1;33m\u001b[0m\u001b[1;33m\u001b[0m\u001b[0m\n\u001b[0m",
      "\u001b[1;32mC:\\Anaconda3\\lib\\site-packages\\seaborn\\__init__.py\u001b[0m in \u001b[0;36m<module>\u001b[1;34m\u001b[0m\n\u001b[0;32m      7\u001b[0m \u001b[1;32mfrom\u001b[0m \u001b[1;33m.\u001b[0m\u001b[0mcategorical\u001b[0m \u001b[1;32mimport\u001b[0m \u001b[1;33m*\u001b[0m  \u001b[1;31m# noqa: F401,F403\u001b[0m\u001b[1;33m\u001b[0m\u001b[1;33m\u001b[0m\u001b[0m\n\u001b[0;32m      8\u001b[0m \u001b[1;32mfrom\u001b[0m \u001b[1;33m.\u001b[0m\u001b[0mdistributions\u001b[0m \u001b[1;32mimport\u001b[0m \u001b[1;33m*\u001b[0m  \u001b[1;31m# noqa: F401,F403\u001b[0m\u001b[1;33m\u001b[0m\u001b[1;33m\u001b[0m\u001b[0m\n\u001b[1;32m----> 9\u001b[1;33m \u001b[1;32mfrom\u001b[0m \u001b[1;33m.\u001b[0m\u001b[0mmatrix\u001b[0m \u001b[1;32mimport\u001b[0m \u001b[1;33m*\u001b[0m  \u001b[1;31m# noqa: F401,F403\u001b[0m\u001b[1;33m\u001b[0m\u001b[1;33m\u001b[0m\u001b[0m\n\u001b[0m\u001b[0;32m     10\u001b[0m \u001b[1;32mfrom\u001b[0m \u001b[1;33m.\u001b[0m\u001b[0mmiscplot\u001b[0m \u001b[1;32mimport\u001b[0m \u001b[1;33m*\u001b[0m  \u001b[1;31m# noqa: F401,F403\u001b[0m\u001b[1;33m\u001b[0m\u001b[1;33m\u001b[0m\u001b[0m\n\u001b[0;32m     11\u001b[0m \u001b[1;32mfrom\u001b[0m \u001b[1;33m.\u001b[0m\u001b[0maxisgrid\u001b[0m \u001b[1;32mimport\u001b[0m \u001b[1;33m*\u001b[0m  \u001b[1;31m# noqa: F401,F403\u001b[0m\u001b[1;33m\u001b[0m\u001b[1;33m\u001b[0m\u001b[0m\n",
      "\u001b[1;32mC:\\Anaconda3\\lib\\site-packages\\seaborn\\matrix.py\u001b[0m in \u001b[0;36m<module>\u001b[1;34m\u001b[0m\n\u001b[0;32m     10\u001b[0m \u001b[1;32mfrom\u001b[0m \u001b[0mscipy\u001b[0m\u001b[1;33m.\u001b[0m\u001b[0mcluster\u001b[0m \u001b[1;32mimport\u001b[0m \u001b[0mhierarchy\u001b[0m\u001b[1;33m\u001b[0m\u001b[1;33m\u001b[0m\u001b[0m\n\u001b[0;32m     11\u001b[0m \u001b[1;33m\u001b[0m\u001b[0m\n\u001b[1;32m---> 12\u001b[1;33m \u001b[1;32mfrom\u001b[0m \u001b[1;33m.\u001b[0m \u001b[1;32mimport\u001b[0m \u001b[0mcm\u001b[0m\u001b[1;33m\u001b[0m\u001b[1;33m\u001b[0m\u001b[0m\n\u001b[0m\u001b[0;32m     13\u001b[0m \u001b[1;32mfrom\u001b[0m \u001b[1;33m.\u001b[0m\u001b[0maxisgrid\u001b[0m \u001b[1;32mimport\u001b[0m \u001b[0mGrid\u001b[0m\u001b[1;33m\u001b[0m\u001b[1;33m\u001b[0m\u001b[0m\n\u001b[0;32m     14\u001b[0m from .utils import (\n",
      "\u001b[1;32mC:\\Anaconda3\\lib\\site-packages\\seaborn\\cm.py\u001b[0m in \u001b[0;36m<module>\u001b[1;34m\u001b[0m\n\u001b[0;32m   1580\u001b[0m     \u001b[0mlocals\u001b[0m\u001b[1;33m(\u001b[0m\u001b[1;33m)\u001b[0m\u001b[1;33m[\u001b[0m\u001b[0m_name\u001b[0m \u001b[1;33m+\u001b[0m \u001b[1;34m\"_r\"\u001b[0m\u001b[1;33m]\u001b[0m \u001b[1;33m=\u001b[0m \u001b[0m_cmap_r\u001b[0m\u001b[1;33m\u001b[0m\u001b[1;33m\u001b[0m\u001b[0m\n\u001b[0;32m   1581\u001b[0m \u001b[1;33m\u001b[0m\u001b[0m\n\u001b[1;32m-> 1582\u001b[1;33m     \u001b[0mmpl_cm\u001b[0m\u001b[1;33m.\u001b[0m\u001b[0mregister_cmap\u001b[0m\u001b[1;33m(\u001b[0m\u001b[0m_name\u001b[0m\u001b[1;33m,\u001b[0m \u001b[0m_cmap\u001b[0m\u001b[1;33m)\u001b[0m\u001b[1;33m\u001b[0m\u001b[1;33m\u001b[0m\u001b[0m\n\u001b[0m\u001b[0;32m   1583\u001b[0m     \u001b[0mmpl_cm\u001b[0m\u001b[1;33m.\u001b[0m\u001b[0mregister_cmap\u001b[0m\u001b[1;33m(\u001b[0m\u001b[0m_name\u001b[0m \u001b[1;33m+\u001b[0m \u001b[1;34m\"_r\"\u001b[0m\u001b[1;33m,\u001b[0m \u001b[0m_cmap_r\u001b[0m\u001b[1;33m)\u001b[0m\u001b[1;33m\u001b[0m\u001b[1;33m\u001b[0m\u001b[0m\n\u001b[0;32m   1584\u001b[0m \u001b[1;33m\u001b[0m\u001b[0m\n",
      "\u001b[1;31mAttributeError\u001b[0m: module 'matplotlib.cm' has no attribute 'register_cmap'"
     ]
    }
   ],
   "source": [
    "import pandas as pd\n",
    "import numpy as np\n",
    "import matplotlib.pyplot as plt\n",
    "import random\n",
    "import scipy.stats as sts\n",
    "%matplotlib inline\n",
    "from itertools import product\n",
    "import warnings\n",
    "warnings.filterwarnings('ignore')\n",
    "import seaborn as sns"
   ]
  },
  {
   "cell_type": "markdown",
   "metadata": {
    "id": "gUvTNDlMaV-a"
   },
   "source": [
    "## Определение вероятности. События\n",
    "\n",
    "Требуется сгенерировать необходимые выборки и произвести по ним расчеты"
   ]
  },
  {
   "cell_type": "markdown",
   "metadata": {
    "id": "5V70InEBTgup"
   },
   "source": [
    "### Задача 1\n",
    "Брошено две монеты. Найти вероятность того, что монеты выпали разными сторонами\n",
    "\n",
    "_Ответ: 0.5_"
   ]
  },
  {
   "cell_type": "code",
   "execution_count": 2,
   "metadata": {
    "id": "88Iw-SL3jYQV"
   },
   "outputs": [
    {
     "name": "stdout",
     "output_type": "stream",
     "text": [
      " 0.503\n"
     ]
    }
   ],
   "source": [
    "import random\n",
    "\n",
    "def toss_coins():\n",
    "    return (random.choice(['Орёл', 'Решка']), random.choice(['Орёл', 'Решка']))\n",
    "\n",
    "def are_different(side1, side2):\n",
    "    return side1 != side2\n",
    "\n",
    "n = 100000\n",
    "successful_count = 0\n",
    "\n",
    "for i in range(n):\n",
    "    sides = toss_coins()\n",
    "    \n",
    "    if are_different(*sides):\n",
    "        successful_count += 1\n",
    "\n",
    "probability = successful_count/n\n",
    "print(f'{probability: .3f}')"
   ]
  },
  {
   "cell_type": "markdown",
   "metadata": {
    "id": "t0XOMos2Tl0e"
   },
   "source": [
    "### Задача 2\n",
    "Брошено три монеты. Описать множество всех элементарных событий. Найти вероятности следующих событий:\n",
    "\n",
    "\n",
    "1.   A = {не выпало ни одного герба}\n",
    "2.   B = {выпало четное число гербов}\n",
    "3.   C = {на третьей монете выпал герб}\n",
    "\n",
    "_Ответы:  0.125, 0.375, 0.5_"
   ]
  },
  {
   "cell_type": "code",
   "execution_count": 3,
   "metadata": {
    "id": "o7NjAE9uUo-L"
   },
   "outputs": [
    {
     "name": "stdout",
     "output_type": "stream",
     "text": [
      "Множество элементарных событий:\n",
      " {('Решка', 'Орел', 'Орел'), ('Орел', 'Орел', 'Решка'), ('Решка', 'Решка', 'Орел'), ('Орел', 'Решка', 'Решка'), ('Орел', 'Орел', 'Орел'), ('Орел', 'Решка', 'Орел'), ('Решка', 'Орел', 'Решка'), ('Решка', 'Решка', 'Решка')}\n",
      "Вероятность событий:\n",
      "A:  0.125\n",
      "B:  0.377\n",
      "C:  0.500\n"
     ]
    }
   ],
   "source": [
    "def toss_coin():\n",
    "    \"\"\"Функция подбрасывания 1 монеты\"\"\"\n",
    "    return random.choice(['Орел','Решка'])\n",
    "\n",
    "def throw_three_coins():\n",
    "    \"\"\"Функция подбрасывания 3х монет\"\"\"\n",
    "    return tuple(toss_coin() for i in range(3))\n",
    "\n",
    "def event_A(result):\n",
    "    return all(x == 'Решка' for x in result)\n",
    "\n",
    "def event_B(result):\n",
    "    count_germs = sum(x =='Орел' for x in result)\n",
    "    return count_germs%2 == 0 and count_germs != 0\n",
    "\n",
    "def event_C(result):\n",
    "    return result[2] == 'Орел'\n",
    "\n",
    "def experiment():\n",
    "    result = throw_three_coins()\n",
    "    return {'A': event_A(result), 'B': event_B(result), 'C': event_C(result)}\n",
    "\n",
    "def main():\n",
    "    n = 100000\n",
    "    results = []\n",
    "    \n",
    "    for i in range(n):\n",
    "        results.append(experiment())\n",
    "    \n",
    "    elementary_events = set([tuple(toss_coin() for i in range(3)) for i in range(n)])\n",
    "    print('Множество элементарных событий:\\n', elementary_events)\n",
    "    \n",
    "    \n",
    "    counts = {}\n",
    "    for res in results:\n",
    "        for key in ['A', 'B', 'C']:\n",
    "            if res[key]:\n",
    "                counts[key] = counts.get(key, 0) + 1\n",
    "    \n",
    "    print(\"Вероятность событий:\")\n",
    "    for key in ['A', 'B', 'C']:\n",
    "        p = counts[key] / n\n",
    "        print (f'{key}: {p: .3f}')\n",
    "        \n",
    "\n",
    "if __name__ == '__main__':\n",
    "    main()"
   ]
  },
  {
   "cell_type": "markdown",
   "metadata": {},
   "source": [
    "Предлагается также решить задачи: \n",
    "\n",
    "### Задача 3\n",
    "Из двух претендентов E и L на ответственную должность три члена комиссии должны отобрать одного. Каждый член комиссии должен указать либо одного достойного, либо забраковать обоих. Претендент считается выбранным, если он был признана достойным хотя бы двумя членами комиссии.\n",
    "Найти вероятность событий:\n",
    "\n",
    "A = {рекомендован L}, B = {рекомендован E}\n",
    "\n",
    "_Ответы: 0.26, 0.26_"
   ]
  },
  {
   "cell_type": "code",
   "execution_count": 4,
   "metadata": {},
   "outputs": [
    {
     "name": "stdout",
     "output_type": "stream",
     "text": [
      "Множество элементарных событий:\n",
      " {('None', 'None', 'E'), ('E', 'L', 'None'), ('L', 'None', 'E'), ('None', 'None', 'L'), ('L', 'None', 'L'), ('E', 'L', 'E'), ('E', 'L', 'L'), ('E', 'E', 'None'), ('E', 'E', 'E'), ('E', 'E', 'L'), ('L', 'L', 'None'), ('E', 'None', 'None'), ('None', 'E', 'L'), ('None', 'L', 'None'), ('L', 'L', 'E'), ('E', 'None', 'E'), ('L', 'L', 'L'), ('None', 'L', 'E'), ('E', 'None', 'L'), ('None', 'L', 'L'), ('L', 'E', 'None'), ('None', 'E', 'None'), ('L', 'None', 'None'), ('None', 'None', 'None'), ('None', 'E', 'E'), ('L', 'E', 'E'), ('L', 'E', 'L')}\n",
      "A:  0.260\n",
      "B:  0.260\n"
     ]
    }
   ],
   "source": [
    "def toss_pretender():\n",
    "    \"\"\"Функция выбора претендента\"\"\"\n",
    "    return random.choice(['E','L', 'None'])\n",
    "\n",
    "def throw_three_pretender():\n",
    "    \"\"\"Функция выбора претендентов 3мя членами комиссии\"\"\"\n",
    "    return tuple(toss_pretender() for i in range(3))\n",
    "\n",
    "def event_A(result):\n",
    "    count_choice = sum(x =='L' for x in result)\n",
    "    return count_choice >= 2\n",
    "\n",
    "def event_B(result):\n",
    "    count_choice = sum(x =='E' for x in result)\n",
    "    return count_choice >= 2\n",
    "\n",
    "def experiment():\n",
    "    result = throw_three_pretender()\n",
    "    return {'A': event_A(result),'B': event_B(result)}\n",
    "\n",
    "def main():\n",
    "    n = 100000\n",
    "    results = []\n",
    "    \n",
    "    for i in range(n):\n",
    "        results.append(experiment())\n",
    "    \n",
    "    elementary_events = set([tuple(toss_pretender() for i in range(3)) for i in range(n)])\n",
    "    print('Множество элементарных событий:\\n', elementary_events)\n",
    "    \n",
    "    \n",
    "    counts = {}\n",
    "    for res in results:\n",
    "        for key in ['A', 'B']:\n",
    "            if res[key]:\n",
    "                counts[key] = counts.get(key, 0) + 1\n",
    "    \n",
    "    #print(\"Вероятность событий:\")\n",
    "    for key in ['A', 'B']:\n",
    "        p = counts[key] / n\n",
    "        print (f'{key}: {p: .3f}')\n",
    "        \n",
    "\n",
    "if __name__ == '__main__':\n",
    "    main()"
   ]
  },
  {
   "cell_type": "markdown",
   "metadata": {
    "id": "peM38mVfYa5B"
   },
   "source": [
    "### Задача 4 + Задача 5\n",
    "Брошено две игральных кости. Описать множество элементарных событий. Найти вероятности событий:\n",
    "\n",
    "A = {вышло две \"шестерки\"}\n",
    "\n",
    "B = {сумма выпавших очков не меньше 11}\n",
    "\n",
    "C = {не выпала ни одна \"шестерка\"}\n",
    "\n",
    "D = {выпала хотя бы одна шестёрка}\n",
    "\n",
    "_Ответы (не забывайте о множестве элементарных событий): 0.028, 0.083, 0.7, 0.305_"
   ]
  },
  {
   "cell_type": "code",
   "execution_count": 6,
   "metadata": {},
   "outputs": [
    {
     "name": "stdout",
     "output_type": "stream",
     "text": [
      "Множество элементарных событий:  {(3, 4), (4, 3), (3, 1), (5, 4), (4, 6), (5, 1), (2, 2), (1, 6), (2, 5), (1, 3), (6, 2), (6, 5), (4, 2), (4, 5), (3, 3), (5, 6), (3, 6), (5, 3), (2, 4), (1, 2), (2, 1), (1, 5), (6, 1), (6, 4), (3, 2), (4, 1), (3, 5), (5, 2), (4, 4), (5, 5), (1, 1), (1, 4), (2, 3), (2, 6), (6, 6), (6, 3)}\n",
      "Вероятность событий:\n",
      "A:  0.027\n",
      "B:  0.082\n",
      "C:  0.697\n",
      "D:  0.303\n"
     ]
    }
   ],
   "source": [
    "def roll_two_dice():\n",
    "    return (random.randint(1, 6), random.randint(1, 6))\n",
    "#событие А\n",
    "def event_A(roll):\n",
    "    return roll[0] == 6 and roll[1] == 6\n",
    "\n",
    "#событие B\n",
    "def event_B(roll):\n",
    "    return (roll[0] + roll[1] >= 11)\n",
    "\n",
    "#событие C\n",
    "def event_C(roll):\n",
    "    return (roll[0] != 6 and roll[1] != 6)\n",
    "\n",
    "#событие D из задачи 5\n",
    "def event_D(roll):\n",
    "    return (roll[0] == 6 or roll[1] == 6)\n",
    "\n",
    "def experiment():\n",
    "    roll = roll_two_dice()\n",
    "    return {'A': event_A(roll),'B': event_B(roll), 'C': event_C(roll), 'D': event_D(roll)}\n",
    "\n",
    "def main():\n",
    "    n = 100000\n",
    "    results = []\n",
    "    \n",
    "    for i in range(n):\n",
    "        results.append(experiment())\n",
    "    \n",
    "    elementary_events = set([tuple(roll_two_dice()) for i in range(n)])\n",
    "    print('Множество элементарных событий: ', elementary_events)\n",
    "    \n",
    "    counts = {}\n",
    "    for res in results:\n",
    "        for key in ['A', 'B', 'C', 'D']:\n",
    "            if res[key]:\n",
    "                counts[key] = counts.get(key, 0) + 1\n",
    "    \n",
    "    print(\"Вероятность событий:\")\n",
    "    for key in ['A', 'B', 'C', 'D']:\n",
    "        p = counts[key] / n\n",
    "        print (f'{key}: {p: .3f}')\n",
    "        \n",
    "\n",
    "if __name__ == '__main__':\n",
    "    main()"
   ]
  },
  {
   "cell_type": "markdown",
   "metadata": {
    "id": "f-Bi0p8haclB"
   },
   "source": [
    "## Вероятность суммы событий"
   ]
  },
  {
   "cell_type": "markdown",
   "metadata": {
    "id": "g7A7QlvGTnwZ"
   },
   "source": [
    "### Задача 5\n",
    "Брошены две игральные кости. Найти вероятность события D = {выпала хотя бы одна шестёрка}\n",
    "\n",
    "_Ответ: 0.305_"
   ]
  },
  {
   "cell_type": "markdown",
   "metadata": {
    "id": "vjtTJN-kUp9D"
   },
   "source": [
    "# Задача 5 была объединена с задачей 4"
   ]
  },
  {
   "cell_type": "markdown",
   "metadata": {
    "id": "R1bYSzQQbC6I"
   },
   "source": [
    "Предлагается также решить задачи: \n",
    "\n",
    "### Задача 6\n",
    "В телефонном номере три последние цифры стерлись. Считая, что все возможные значения стершихся цифр равновероятны, найти вероятность событий:\n",
    "\n",
    "A = {Стерлись различные цифры},\n",
    "\n",
    "B = {Стерлись одинаковые цифры},\n",
    "\n",
    "C = {Среди стершихся цифр хотя бы две совпадают},\n",
    "\n",
    "D = {Среди стершихся цифр хотя бы две различны}\n",
    "\n",
    "_Ответы: 0.72, 0.01, 0.28, 0.99_"
   ]
  },
  {
   "cell_type": "code",
   "execution_count": 7,
   "metadata": {},
   "outputs": [
    {
     "name": "stdout",
     "output_type": "stream",
     "text": [
      "Вероятность событий:\n",
      "A:  0.72\n",
      "B:  0.01\n",
      "C:  0.28\n",
      "D:  0.99\n"
     ]
    }
   ],
   "source": [
    "def roll_three_digits():\n",
    "    return (random.randint(0, 9), random.randint(0, 9), random.randint(0, 9))\n",
    "\n",
    "def event_A(roll):\n",
    "    return (roll[0] != roll[1] and roll[1] != roll[2] and roll[0] != roll[2])\n",
    "\n",
    "def event_B(roll):\n",
    "    return (roll[0] == roll[1] and roll[1] == roll[2] and roll[0] == roll[2])\n",
    "\n",
    "def event_C(roll):\n",
    "    return (roll[0] == roll[1] or roll[1] == roll[2] or roll[0] == roll[2])\n",
    "\n",
    "def event_D(roll):\n",
    "    return (roll[0] != roll[1] or roll[1] != roll[2] or roll[0] != roll[2])\n",
    "\n",
    "def experiment():\n",
    "    roll = roll_three_digits()\n",
    "    return {'A': event_A(roll), 'B': event_B(roll), 'C': event_C(roll), 'D': event_D(roll)}\n",
    "\n",
    "def main():\n",
    "    n = 1000000\n",
    "    results = []\n",
    "    \n",
    "    for i in range(n):\n",
    "        results.append(experiment())\n",
    "    \n",
    "    counts = {}\n",
    "    for res in results:\n",
    "        for key in ['A', 'B', 'C', 'D']:\n",
    "            if res[key]:\n",
    "                counts[key] = counts.get(key, 0) + 1\n",
    "    \n",
    "    print(\"Вероятность событий:\")\n",
    "    for key in ['A', 'B', 'C', 'D']:\n",
    "        p = counts[key] / n\n",
    "        print (f'{key}: {p: .2f}')\n",
    "        \n",
    "\n",
    "if __name__ == '__main__':\n",
    "    main()"
   ]
  },
  {
   "cell_type": "markdown",
   "metadata": {
    "id": "RnugkR8BalK_"
   },
   "source": [
    "## Случайные величины"
   ]
  },
  {
   "cell_type": "markdown",
   "metadata": {
    "id": "yLoZDZ17UVsp"
   },
   "source": [
    "### Задача 7\n",
    "В лотерее имеется 10 билетов, из которых один выигрышный. Размер выигрыша 10 ден. ед.; стоимость билета 1 ден ед. Найти закон распределения случайной величины X, равной чистому выигрышу участника лотереи, который вытаскивает билет первым.\n",
    "\n",
    "_Ответ: закон распределения данной величины_"
   ]
  },
  {
   "cell_type": "code",
   "execution_count": null,
   "metadata": {},
   "outputs": [],
   "source": []
  },
  {
   "cell_type": "markdown",
   "metadata": {
    "id": "U-NK9liSbpvb"
   },
   "source": [
    "Предлагается также решить задачу: \n",
    "\n",
    "### Задача 8\n",
    "Брошены две игральные кости. Найти закон распределения случайной величины $X$, равной сумме выпавших очков. Найти вероятности событий ${X <= 4}$, ${X > 4}$\n",
    "\n",
    "_Ответ: закон распределения случайной величины , вероятности событий  𝑋<=4 и 𝑋>4_"
   ]
  },
  {
   "cell_type": "code",
   "execution_count": 12,
   "metadata": {},
   "outputs": [
    {
     "name": "stdout",
     "output_type": "stream",
     "text": [
      "Вероятность событий:\n",
      "A:  0.167\n",
      "B:  0.833\n"
     ]
    }
   ],
   "source": [
    "def roll_two_dice():\n",
    "    return (random.randint(1, 6), random.randint(1, 6))\n",
    "#событие А\n",
    "def event_A(roll):\n",
    "    return (roll[0] + roll[1]) <= 4\n",
    "\n",
    "#событие B\n",
    "def event_B(roll):\n",
    "    return (roll[0] + roll[1] > 4)\n",
    "\n",
    "def experiment():\n",
    "    roll = roll_two_dice()\n",
    "    return {'A': event_A(roll),'B': event_B(roll)}\n",
    "\n",
    "def main():\n",
    "    n = 100000\n",
    "    results = []\n",
    "    \n",
    "    for i in range(n):\n",
    "        results.append(experiment())\n",
    "    \n",
    "    counts = {}\n",
    "    for res in results:\n",
    "        for key in ['A', 'B']:\n",
    "            if res[key]:\n",
    "                counts[key] = counts.get(key, 0) + 1\n",
    "    \n",
    "    print(\"Вероятность событий:\")\n",
    "    for key in ['A', 'B']:\n",
    "        p = counts[key] / n\n",
    "        print (f'{key}: {p: .3f}')\n",
    "        \n",
    "\n",
    "if __name__ == '__main__':\n",
    "    main()"
   ]
  },
  {
   "cell_type": "code",
   "execution_count": 41,
   "metadata": {},
   "outputs": [
    {
     "data": {
      "text/plain": [
       "[]"
      ]
     },
     "execution_count": 41,
     "metadata": {},
     "output_type": "execute_result"
    },
    {
     "data": {
      "image/png": "[encoded data removed]",
      "text/plain": [
       "<Figure size 432x288 with 1 Axes>"
      ]
     },
     "metadata": {
      "needs_background": "light"
     },
     "output_type": "display_data"
    }
   ],
   "source": [
    "import scipy.stats as sts\n",
    "from itertools import product\n",
    "import matplotlib.pyplot as plt\n",
    "import seaborn as sns\n",
    "import numpy as np\n",
    "\n",
    "x = np.linspace(0,6,46)\n",
    "for N, p in product([0,6], [.167,.833]):\n",
    "    rv = sts.binom(N, p)\n",
    "    cdf = rv.cdf(x)\n",
    "    plt.step(x, cdf, label=\"$N=%s, p=%s$\" % (N,p))\n",
    "plt.legend()\n",
    "plt.title(\"CDF binomial distributions\")\n",
    "plt.ylabel(\"$F(x)$\")\n",
    "plt.xlabel(\"$x$\")\n",
    "plt.plot()"
   ]
  },
  {
   "cell_type": "code",
   "execution_count": 24,
   "metadata": {},
   "outputs": [
    {
     "data": {
      "text/plain": [
       "[]"
      ]
     },
     "execution_count": 24,
     "metadata": {},
     "output_type": "execute_result"
    },
    {
     "data": {
      "image/png": "[encoded data removed]",
      "text/plain": [
       "<Figure size 432x288 with 1 Axes>"
      ]
     },
     "metadata": {
      "needs_background": "light"
     },
     "output_type": "display_data"
    }
   ],
   "source": [
    "binomial_rv = sts.binom(20, 0.167) # 20 испытаний с вероятностью успеха 0.167\n",
    "# построим функцию распределения\n",
    "x = np.linspace(0,10)\n",
    "cdf = binomial_rv.cdf(x) # вернёт массив из значений функции распределения\n",
    "plt.step(x, cdf)\n",
    "plt.ylabel(\"$F(x)$\")\n",
    "plt.xlabel(\"$x$\")\n",
    "plt.plot()"
   ]
  },
  {
   "cell_type": "markdown",
   "metadata": {
    "id": "shgW4D83awjK"
   },
   "source": [
    "## Условные вероятности"
   ]
  },
  {
   "cell_type": "markdown",
   "metadata": {
    "id": "Fbu1RFZwWZrk"
   },
   "source": [
    "### Задача 9\n",
    "Из колоды (36 карт) вынимают последовательно без возвращения две карты. Найти вероятность того, что первой картой была шестерка, а второй — семерка. Найти условную вероятность того же события при условии, что обе карты бубновой масти.\n",
    "\n",
    "_Ответы: .0127, 0.0008_"
   ]
  },
  {
   "cell_type": "code",
   "execution_count": 43,
   "metadata": {
    "id": "037o56awW9-E"
   },
   "outputs": [
    {
     "name": "stdout",
     "output_type": "stream",
     "text": [
      "Вероятность: 0.0125\n",
      "Условная вероятность: 0.2517\n"
     ]
    }
   ],
   "source": [
    "def draw_two_cards():\n",
    "    diamonds = ['6d', '7d','8d', '9d', '10d', 'Jd', 'Qd', 'Kd', 'Ad']\n",
    "    hearts = ['6h', '7h','8h', '9h', '10h', 'Jh', 'Qh', 'Kh', 'Ah']\n",
    "    clubs = ['6c', '7c','8c', '9c', '10c', 'Jc', 'Qc', 'Kc', 'Ac']\n",
    "    spades = ['6s', '7s','8s', '9s', '10s', 'Js', 'Qs', 'Ks', 'As']\n",
    "    deck = diamonds + hearts + clubs + spades\n",
    "    first_card = random.choice(deck)\n",
    "    second_card = random.choice(deck)\n",
    "    return first_card, second_card\n",
    "\n",
    "def is_target_outcome(first_card, second_card):\n",
    "    return (first_card[0] == '6' and second_card[0] == '7')\n",
    "\n",
    "def is_both_hearts(first_card, second_card):\n",
    "    return first_card[1] == 'd' and second_card[1] == 'd'\n",
    "\n",
    "n = 100000\n",
    "target_outcomes = 0\n",
    "both_hearts_outcomes = 0\n",
    "\n",
    "for i in range(n):\n",
    "    first_card, second_card = draw_two_cards()\n",
    "    if is_target_outcome(first_card, second_card):\n",
    "        target_outcomes += 1\n",
    "    if is_both_hearts(first_card, second_card):\n",
    "        both_hearts_outcomes += 1\n",
    "\n",
    "print(f'Вероятность: {target_outcomes/n:.4f}')\n",
    "print(f'Условная вероятность: {(target_outcomes/both_hearts_outcomes):.4f}')"
   ]
  },
  {
   "cell_type": "markdown",
   "metadata": {
    "id": "hNVxtaz5c57b"
   },
   "source": [
    "Предлагается также решить задачу: \n",
    "\n",
    "### Задача 10\n",
    "Из урны, содержащей два белых и три черных шара, последовательно извлекают два шара; вынутые шары не возвращаются. Если первый шар оказался черным, то перед вторым извлечением в урну добавляют белый шар. В противном случае состав оставшихся шаров не меняют. Найти вероятности событий:\n",
    "\n",
    "$A$ = {извлечены два белых шара},\n",
    "\n",
    "$B$ = {извлечены два черных шара}\n",
    "\n",
    "Указание. Пусть событие $C_1$ = {первый шар белый}, событие $C_2$ = {второй шар белый}. Тогда $A = C_1C_2$, $B = \\overline C_1 \\overline C_2$ \n",
    "\n",
    "_Ответы: 0.1, 0.24_"
   ]
  },
  {
   "cell_type": "code",
   "execution_count": 44,
   "metadata": {
    "id": "WSLnhk2sdBt_"
   },
   "outputs": [
    {
     "name": "stdout",
     "output_type": "stream",
     "text": [
      "Вероятность выпадения двух белых шаров: 0.10\n",
      "Вероятность выпадения двух черных шаров: 0.24\n"
     ]
    }
   ],
   "source": [
    "import random\n",
    "\n",
    "def draw_balls():\n",
    "    urn = ['white']*2 + ['black']*3\n",
    "    first_ball = random.choice(urn)\n",
    "    if first_ball == 'black':\n",
    "        urn.remove('black')\n",
    "        urn.append('white')\n",
    "    else:\n",
    "        urn.remove('white')\n",
    "    second_ball = random.choice(urn)\n",
    "    return first_ball, second_ball\n",
    "\n",
    "def is_white_white():\n",
    "    return draw_balls() == ('white', 'white')\n",
    "\n",
    "def is_black_black():\n",
    "    return draw_balls() == ('black', 'black')\n",
    "\n",
    "n = 100000\n",
    "\n",
    "def main():\n",
    "    white_white_count = 0\n",
    "    black_black_count = 0\n",
    "    \n",
    "    for i in range(n):\n",
    "        if is_white_white():\n",
    "            white_white_count += 1\n",
    "        if is_black_black():\n",
    "            black_black_count += 1 \n",
    "            \n",
    "    print(f'Вероятность выпадения двух белых шаров: {white_white_count/n:.2f}')\n",
    "    print(f'Вероятность выпадения двух черных шаров: {black_black_count/n:.2f}')\n",
    "    \n",
    "    \n",
    "if __name__ == '__main__':\n",
    "    main()"
   ]
  }
 ],
 "metadata": {
  "colab": {
   "collapsed_sections": [],
   "name": "Практика к занятию 11.ipynb",
   "provenance": []
  },
  "kernelspec": {
   "display_name": "Python 3 (ipykernel)",
   "language": "python",
   "name": "python3"
  },
  "language_info": {
   "codemirror_mode": {
    "name": "ipython",
    "version": 3
   },
   "file_extension": ".py",
   "mimetype": "text/x-python",
   "name": "python",
   "nbconvert_exporter": "python",
   "pygments_lexer": "ipython3",
   "version": "3.9.7"
  }
 },
 "nbformat": 4,
 "nbformat_minor": 1
}
