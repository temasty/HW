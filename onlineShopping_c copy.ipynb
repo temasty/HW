{
 "cells": [
  {
   "cell_type": "markdown",
   "metadata": {
    "cellId": "fcbf6fbf-2b56-4f42-a4fb-7811fa6a6f80"
   },
   "source": [
    "В файле <i>orders</i> представлена информация о заказах в онлайн-магазине.\n",
    "```\n",
    "OrderID - ID Заказа,\n",
    "UserID - ID клиента,\n",
    "OrderTime - время заказа,\n",
    "items - список элементов в заказе, каждый элемент описан словарем:\n",
    "    ItemID  - ID продукта, \n",
    "    price - цена единицы товара, \n",
    "    quantity - количество единиц товара в заказе\n",
    "```\n",
    "В файле <i>categories</i> представлена информация о категории товаров.\n",
    "```\n",
    "ItemID - ID продукта,\n",
    "Category - категория продукта,\n",
    "ParentCategory - более крупная категория продукта\n",
    "```"
   ]
  },
  {
   "cell_type": "markdown",
   "metadata": {
    "cellId": "c2366c6a-18f2-4dda-95d9-a80b59612f29"
   },
   "source": [
    "## Анализ логов продуктового магазина"
   ]
  },
  {
   "cell_type": "markdown",
   "metadata": {
    "cellId": "e534da09-d249-4101-af31-2d3a7b264697",
    "execution_id": "d9694136-09e6-49f8-81b9-063ed9896e0e"
   },
   "source": [
    "Представьте, что вы работаете аналитиком онлайн-магазина и ваша цель - повысить GMV (суммарную выручку от продажи товаров). Для этого вы хотите провести ряд исследований и придумать какие-то меры для увеличения выручки."
   ]
  },
  {
   "cell_type": "markdown",
   "metadata": {},
   "source": [
    "* Определите, какого числа было сделано больше всего заказов?\n",
    "* Найдите топ-3 ParentCategory по GMV (суммарная выручка, которую принесла продажа товаров этой категории)\n",
    "* Напишите функцию, которая принимает на вход OrderID и рекомендует ItemID продукта для корзины этого заказа. Проверьте работу этой функции."
   ]
  },
  {
   "cell_type": "code",
   "execution_count": 3,
   "metadata": {
    "ExecuteTime": {
     "end_time": "2024-09-12T18:06:50.644597Z",
     "start_time": "2024-09-12T18:06:47.814905Z"
    },
    "cellId": "o451uej02dbxv838otnfia",
    "execution": {
     "iopub.execute_input": "2024-09-03T06:53:50.442286Z",
     "iopub.status.busy": "2024-09-03T06:53:50.441271Z",
     "iopub.status.idle": "2024-09-03T06:53:50.459492Z",
     "shell.execute_reply": "2024-09-03T06:53:50.458783Z",
     "shell.execute_reply.started": "2024-09-03T06:53:50.442232Z"
    },
    "tags": []
   },
   "outputs": [],
   "source": [
    "import pandas as pd"
   ]
  },
  {
   "cell_type": "code",
   "execution_count": 4,
   "metadata": {
    "ExecuteTime": {
     "end_time": "2024-09-12T18:06:50.648292Z",
     "start_time": "2024-09-12T18:06:50.645622Z"
    }
   },
   "outputs": [],
   "source": [
    "# Для скачивания файлов из репозитория в Colab \n",
    "# !wget https://raw.githubusercontent.com/da-python/new-modul-python/main/Lesson4/hometask/data/categories.csv -P data\n",
    "# !wget https://raw.githubusercontent.com/da-python/new-modul-python/main/Lesson4/hometask/data/orders.json -P data"
   ]
  },
  {
   "cell_type": "code",
   "execution_count": 5,
   "metadata": {
    "ExecuteTime": {
     "end_time": "2024-09-12T18:06:51.153691Z",
     "start_time": "2024-09-12T18:06:50.649356Z"
    }
   },
   "outputs": [],
   "source": [
    "categories = pd.read_csv('categories.csv')\n",
    "orders = pd.read_json('orders.json')"
   ]
  },
  {
   "cell_type": "code",
   "execution_count": 3,
   "metadata": {
    "ExecuteTime": {
     "end_time": "2024-09-12T17:50:08.165115Z",
     "start_time": "2024-09-12T17:50:08.155332Z"
    },
    "cellId": "dpa7vr5444k37cid25ttkw",
    "execution": {
     "iopub.execute_input": "2024-09-03T06:54:13.946114Z",
     "iopub.status.busy": "2024-09-03T06:54:13.944989Z",
     "iopub.status.idle": "2024-09-03T06:54:14.910631Z",
     "shell.execute_reply": "2024-09-03T06:54:14.909821Z",
     "shell.execute_reply.started": "2024-09-03T06:54:13.946072Z"
    },
    "tags": []
   },
   "outputs": [
    {
     "data": {
      "text/html": [
       "<div>\n",
       "<style scoped>\n",
       "    .dataframe tbody tr th:only-of-type {\n",
       "        vertical-align: middle;\n",
       "    }\n",
       "\n",
       "    .dataframe tbody tr th {\n",
       "        vertical-align: top;\n",
       "    }\n",
       "\n",
       "    .dataframe thead th {\n",
       "        text-align: right;\n",
       "    }\n",
       "</style>\n",
       "<table border=\"1\" class=\"dataframe\">\n",
       "  <thead>\n",
       "    <tr style=\"text-align: right;\">\n",
       "      <th></th>\n",
       "      <th>ItemID</th>\n",
       "      <th>Category</th>\n",
       "      <th>ParentCategory</th>\n",
       "    </tr>\n",
       "  </thead>\n",
       "  <tbody>\n",
       "    <tr>\n",
       "      <th>0</th>\n",
       "      <td>1000002</td>\n",
       "      <td>Сладости для диабетиков</td>\n",
       "      <td>Сладости</td>\n",
       "    </tr>\n",
       "    <tr>\n",
       "      <th>1</th>\n",
       "      <td>1000046</td>\n",
       "      <td>Вода</td>\n",
       "      <td>Напитки</td>\n",
       "    </tr>\n",
       "    <tr>\n",
       "      <th>2</th>\n",
       "      <td>1000048</td>\n",
       "      <td>Сладости для диабетиков</td>\n",
       "      <td>Сладости</td>\n",
       "    </tr>\n",
       "    <tr>\n",
       "      <th>3</th>\n",
       "      <td>1000049</td>\n",
       "      <td>Вода</td>\n",
       "      <td>Напитки</td>\n",
       "    </tr>\n",
       "    <tr>\n",
       "      <th>4</th>\n",
       "      <td>1000061</td>\n",
       "      <td>Фрукты</td>\n",
       "      <td>Овощи и фрукты</td>\n",
       "    </tr>\n",
       "  </tbody>\n",
       "</table>\n",
       "</div>"
      ],
      "text/plain": [
       "    ItemID                 Category  ParentCategory\n",
       "0  1000002  Сладости для диабетиков        Сладости\n",
       "1  1000046                     Вода         Напитки\n",
       "2  1000048  Сладости для диабетиков        Сладости\n",
       "3  1000049                     Вода         Напитки\n",
       "4  1000061                   Фрукты  Овощи и фрукты"
      ]
     },
     "execution_count": 3,
     "metadata": {},
     "output_type": "execute_result"
    }
   ],
   "source": [
    "categories.head()\n"
   ]
  },
  {
   "cell_type": "code",
   "execution_count": 4,
   "metadata": {
    "ExecuteTime": {
     "end_time": "2024-09-12T17:50:10.378222Z",
     "start_time": "2024-09-12T17:50:10.356673Z"
    },
    "execution": {
     "iopub.execute_input": "2024-09-03T06:54:17.124918Z",
     "iopub.status.busy": "2024-09-03T06:54:17.123862Z",
     "iopub.status.idle": "2024-09-03T06:54:17.173323Z",
     "shell.execute_reply": "2024-09-03T06:54:17.172546Z",
     "shell.execute_reply.started": "2024-09-03T06:54:17.124888Z"
    },
    "tags": []
   },
   "outputs": [
    {
     "data": {
      "text/html": [
       "<div>\n",
       "<style scoped>\n",
       "    .dataframe tbody tr th:only-of-type {\n",
       "        vertical-align: middle;\n",
       "    }\n",
       "\n",
       "    .dataframe tbody tr th {\n",
       "        vertical-align: top;\n",
       "    }\n",
       "\n",
       "    .dataframe thead th {\n",
       "        text-align: right;\n",
       "    }\n",
       "</style>\n",
       "<table border=\"1\" class=\"dataframe\">\n",
       "  <thead>\n",
       "    <tr style=\"text-align: right;\">\n",
       "      <th></th>\n",
       "      <th>OrderID</th>\n",
       "      <th>UserID</th>\n",
       "      <th>OrderTime</th>\n",
       "      <th>items</th>\n",
       "      <th>Date</th>\n",
       "    </tr>\n",
       "  </thead>\n",
       "  <tbody>\n",
       "    <tr>\n",
       "      <th>0</th>\n",
       "      <td>90659865</td>\n",
       "      <td>1.609460e+18</td>\n",
       "      <td>2021-01-01 03:51:42</td>\n",
       "      <td>[{'ItemID': '413736', 'price': 36.72, 'quantit...</td>\n",
       "      <td>2021-01-01</td>\n",
       "    </tr>\n",
       "    <tr>\n",
       "      <th>1</th>\n",
       "      <td>90622054</td>\n",
       "      <td>2.499293e+18</td>\n",
       "      <td>2021-01-01 04:13:13</td>\n",
       "      <td>[{'ItemID': '961454', 'price': 179.9, 'quantit...</td>\n",
       "      <td>2021-01-01</td>\n",
       "    </tr>\n",
       "    <tr>\n",
       "      <th>2</th>\n",
       "      <td>90659952</td>\n",
       "      <td>3.945866e+17</td>\n",
       "      <td>2021-01-01 05:48:53</td>\n",
       "      <td>[{'ItemID': '306553', 'price': 101.9, 'quantit...</td>\n",
       "      <td>2021-01-01</td>\n",
       "    </tr>\n",
       "    <tr>\n",
       "      <th>3</th>\n",
       "      <td>89765281</td>\n",
       "      <td>5.412765e+18</td>\n",
       "      <td>2021-01-01 08:33:41</td>\n",
       "      <td>[{'ItemID': '979703', 'price': 99.9, 'quantity...</td>\n",
       "      <td>2021-01-01</td>\n",
       "    </tr>\n",
       "    <tr>\n",
       "      <th>4</th>\n",
       "      <td>90582308</td>\n",
       "      <td>6.380061e+18</td>\n",
       "      <td>2021-01-01 09:55:35</td>\n",
       "      <td>[{'ItemID': '303765', 'price': 44.9, 'quantity...</td>\n",
       "      <td>2021-01-01</td>\n",
       "    </tr>\n",
       "  </tbody>\n",
       "</table>\n",
       "</div>"
      ],
      "text/plain": [
       "    OrderID        UserID            OrderTime  \\\n",
       "0  90659865  1.609460e+18  2021-01-01 03:51:42   \n",
       "1  90622054  2.499293e+18  2021-01-01 04:13:13   \n",
       "2  90659952  3.945866e+17  2021-01-01 05:48:53   \n",
       "3  89765281  5.412765e+18  2021-01-01 08:33:41   \n",
       "4  90582308  6.380061e+18  2021-01-01 09:55:35   \n",
       "\n",
       "                                               items       Date  \n",
       "0  [{'ItemID': '413736', 'price': 36.72, 'quantit... 2021-01-01  \n",
       "1  [{'ItemID': '961454', 'price': 179.9, 'quantit... 2021-01-01  \n",
       "2  [{'ItemID': '306553', 'price': 101.9, 'quantit... 2021-01-01  \n",
       "3  [{'ItemID': '979703', 'price': 99.9, 'quantity... 2021-01-01  \n",
       "4  [{'ItemID': '303765', 'price': 44.9, 'quantity... 2021-01-01  "
      ]
     },
     "execution_count": 4,
     "metadata": {},
     "output_type": "execute_result"
    }
   ],
   "source": [
    "orders.head()"
   ]
  },
  {
   "cell_type": "code",
   "execution_count": 16,
   "metadata": {
    "ExecuteTime": {
     "end_time": "2024-09-12T17:56:43.034649Z",
     "start_time": "2024-09-12T17:56:43.028431Z"
    }
   },
   "outputs": [
    {
     "data": {
      "text/plain": [
       "Date\n",
       "2021-02-05    342\n",
       "Name: OrderID, dtype: int64"
      ]
     },
     "execution_count": 16,
     "metadata": {},
     "output_type": "execute_result"
    }
   ],
   "source": [
    "orders.groupby(['Date'])['OrderID'].count().sort_values(ascending=False).head(1)"
   ]
  },
  {
   "cell_type": "code",
   "execution_count": 15,
   "metadata": {
    "ExecuteTime": {
     "end_time": "2024-09-12T18:11:07.374357Z",
     "start_time": "2024-09-12T18:11:07.219700Z"
    }
   },
   "outputs": [
    {
     "data": {
      "text/html": [
       "<div>\n",
       "<style scoped>\n",
       "    .dataframe tbody tr th:only-of-type {\n",
       "        vertical-align: middle;\n",
       "    }\n",
       "\n",
       "    .dataframe tbody tr th {\n",
       "        vertical-align: top;\n",
       "    }\n",
       "\n",
       "    .dataframe thead th {\n",
       "        text-align: right;\n",
       "    }\n",
       "</style>\n",
       "<table border=\"1\" class=\"dataframe\">\n",
       "  <thead>\n",
       "    <tr style=\"text-align: right;\">\n",
       "      <th></th>\n",
       "      <th>OrderID</th>\n",
       "      <th>UserID</th>\n",
       "      <th>OrderTime</th>\n",
       "      <th>items</th>\n",
       "      <th>Date</th>\n",
       "    </tr>\n",
       "  </thead>\n",
       "  <tbody>\n",
       "    <tr>\n",
       "      <th>0</th>\n",
       "      <td>90659865</td>\n",
       "      <td>1.609460e+18</td>\n",
       "      <td>2021-01-01 03:51:42</td>\n",
       "      <td>{'ItemID': '413736', 'price': 36.72, 'quantity...</td>\n",
       "      <td>2021-01-01</td>\n",
       "    </tr>\n",
       "    <tr>\n",
       "      <th>0</th>\n",
       "      <td>90659865</td>\n",
       "      <td>1.609460e+18</td>\n",
       "      <td>2021-01-01 03:51:42</td>\n",
       "      <td>{'ItemID': '523171', 'price': 90.32, 'quantity...</td>\n",
       "      <td>2021-01-01</td>\n",
       "    </tr>\n",
       "    <tr>\n",
       "      <th>0</th>\n",
       "      <td>90659865</td>\n",
       "      <td>1.609460e+18</td>\n",
       "      <td>2021-01-01 03:51:42</td>\n",
       "      <td>{'ItemID': '452831', 'price': 223.11, 'quantit...</td>\n",
       "      <td>2021-01-01</td>\n",
       "    </tr>\n",
       "    <tr>\n",
       "      <th>0</th>\n",
       "      <td>90659865</td>\n",
       "      <td>1.609460e+18</td>\n",
       "      <td>2021-01-01 03:51:42</td>\n",
       "      <td>{'ItemID': '303673', 'price': 59.9, 'quantity'...</td>\n",
       "      <td>2021-01-01</td>\n",
       "    </tr>\n",
       "    <tr>\n",
       "      <th>0</th>\n",
       "      <td>90659865</td>\n",
       "      <td>1.609460e+18</td>\n",
       "      <td>2021-01-01 03:51:42</td>\n",
       "      <td>{'ItemID': '318193', 'price': 319.91, 'quantit...</td>\n",
       "      <td>2021-01-01</td>\n",
       "    </tr>\n",
       "    <tr>\n",
       "      <th>...</th>\n",
       "      <td>...</td>\n",
       "      <td>...</td>\n",
       "      <td>...</td>\n",
       "      <td>...</td>\n",
       "      <td>...</td>\n",
       "    </tr>\n",
       "    <tr>\n",
       "      <th>40374</th>\n",
       "      <td>93266815</td>\n",
       "      <td>1.620119e+18</td>\n",
       "      <td>2021-06-30 23:58:09</td>\n",
       "      <td>{'ItemID': '439036', 'price': 17.5, 'quantity'...</td>\n",
       "      <td>2021-06-30</td>\n",
       "    </tr>\n",
       "    <tr>\n",
       "      <th>40374</th>\n",
       "      <td>93266815</td>\n",
       "      <td>1.620119e+18</td>\n",
       "      <td>2021-06-30 23:58:09</td>\n",
       "      <td>{'ItemID': '303765', 'price': 6.56000000000000...</td>\n",
       "      <td>2021-06-30</td>\n",
       "    </tr>\n",
       "    <tr>\n",
       "      <th>40374</th>\n",
       "      <td>93266815</td>\n",
       "      <td>1.620119e+18</td>\n",
       "      <td>2021-06-30 23:58:09</td>\n",
       "      <td>{'ItemID': '341794', 'price': 69.9, 'quantity'...</td>\n",
       "      <td>2021-06-30</td>\n",
       "    </tr>\n",
       "    <tr>\n",
       "      <th>40374</th>\n",
       "      <td>93266815</td>\n",
       "      <td>1.620119e+18</td>\n",
       "      <td>2021-06-30 23:58:09</td>\n",
       "      <td>{'ItemID': '307216', 'price': 2.99, 'quantity'...</td>\n",
       "      <td>2021-06-30</td>\n",
       "    </tr>\n",
       "    <tr>\n",
       "      <th>40374</th>\n",
       "      <td>93266815</td>\n",
       "      <td>1.620119e+18</td>\n",
       "      <td>2021-06-30 23:58:09</td>\n",
       "      <td>{'ItemID': '322455', 'price': 9.68, 'quantity'...</td>\n",
       "      <td>2021-06-30</td>\n",
       "    </tr>\n",
       "  </tbody>\n",
       "</table>\n",
       "<p>852818 rows × 5 columns</p>\n",
       "</div>"
      ],
      "text/plain": [
       "        OrderID        UserID            OrderTime  \\\n",
       "0      90659865  1.609460e+18  2021-01-01 03:51:42   \n",
       "0      90659865  1.609460e+18  2021-01-01 03:51:42   \n",
       "0      90659865  1.609460e+18  2021-01-01 03:51:42   \n",
       "0      90659865  1.609460e+18  2021-01-01 03:51:42   \n",
       "0      90659865  1.609460e+18  2021-01-01 03:51:42   \n",
       "...         ...           ...                  ...   \n",
       "40374  93266815  1.620119e+18  2021-06-30 23:58:09   \n",
       "40374  93266815  1.620119e+18  2021-06-30 23:58:09   \n",
       "40374  93266815  1.620119e+18  2021-06-30 23:58:09   \n",
       "40374  93266815  1.620119e+18  2021-06-30 23:58:09   \n",
       "40374  93266815  1.620119e+18  2021-06-30 23:58:09   \n",
       "\n",
       "                                                   items       Date  \n",
       "0      {'ItemID': '413736', 'price': 36.72, 'quantity... 2021-01-01  \n",
       "0      {'ItemID': '523171', 'price': 90.32, 'quantity... 2021-01-01  \n",
       "0      {'ItemID': '452831', 'price': 223.11, 'quantit... 2021-01-01  \n",
       "0      {'ItemID': '303673', 'price': 59.9, 'quantity'... 2021-01-01  \n",
       "0      {'ItemID': '318193', 'price': 319.91, 'quantit... 2021-01-01  \n",
       "...                                                  ...        ...  \n",
       "40374  {'ItemID': '439036', 'price': 17.5, 'quantity'... 2021-06-30  \n",
       "40374  {'ItemID': '303765', 'price': 6.56000000000000... 2021-06-30  \n",
       "40374  {'ItemID': '341794', 'price': 69.9, 'quantity'... 2021-06-30  \n",
       "40374  {'ItemID': '307216', 'price': 2.99, 'quantity'... 2021-06-30  \n",
       "40374  {'ItemID': '322455', 'price': 9.68, 'quantity'... 2021-06-30  \n",
       "\n",
       "[852818 rows x 5 columns]"
      ]
     },
     "execution_count": 15,
     "metadata": {},
     "output_type": "execute_result"
    }
   ],
   "source": [
    "df1 = orders.explode('items')\n",
    "df1"
   ]
  },
  {
   "cell_type": "code",
   "execution_count": 16,
   "metadata": {
    "ExecuteTime": {
     "end_time": "2024-09-12T18:11:58.634063Z",
     "start_time": "2024-09-12T18:11:12.694481Z"
    }
   },
   "outputs": [],
   "source": [
    "def extract_values(dictionary):\n",
    "    ItemID = dictionary['ItemID']\n",
    "    price = dictionary['price']\n",
    "    quantity = dictionary['quantity']\n",
    "    return ItemID, price, quantity\n",
    "\n",
    "\n",
    "df1[['ItemID', 'price', 'quantity']] = df1['items'].apply(lambda x: pd.Series(extract_values(x)))"
   ]
  },
  {
   "cell_type": "code",
   "execution_count": 17,
   "metadata": {
    "ExecuteTime": {
     "end_time": "2024-09-12T18:11:58.673782Z",
     "start_time": "2024-09-12T18:11:58.636068Z"
    }
   },
   "outputs": [
    {
     "data": {
      "text/html": [
       "<div>\n",
       "<style scoped>\n",
       "    .dataframe tbody tr th:only-of-type {\n",
       "        vertical-align: middle;\n",
       "    }\n",
       "\n",
       "    .dataframe tbody tr th {\n",
       "        vertical-align: top;\n",
       "    }\n",
       "\n",
       "    .dataframe thead th {\n",
       "        text-align: right;\n",
       "    }\n",
       "</style>\n",
       "<table border=\"1\" class=\"dataframe\">\n",
       "  <thead>\n",
       "    <tr style=\"text-align: right;\">\n",
       "      <th></th>\n",
       "      <th>OrderID</th>\n",
       "      <th>UserID</th>\n",
       "      <th>OrderTime</th>\n",
       "      <th>Date</th>\n",
       "      <th>ItemID</th>\n",
       "      <th>price</th>\n",
       "      <th>quantity</th>\n",
       "    </tr>\n",
       "  </thead>\n",
       "  <tbody>\n",
       "    <tr>\n",
       "      <th>0</th>\n",
       "      <td>90659865</td>\n",
       "      <td>1.609460e+18</td>\n",
       "      <td>2021-01-01 03:51:42</td>\n",
       "      <td>2021-01-01</td>\n",
       "      <td>413736</td>\n",
       "      <td>36.72</td>\n",
       "      <td>2</td>\n",
       "    </tr>\n",
       "    <tr>\n",
       "      <th>0</th>\n",
       "      <td>90659865</td>\n",
       "      <td>1.609460e+18</td>\n",
       "      <td>2021-01-01 03:51:42</td>\n",
       "      <td>2021-01-01</td>\n",
       "      <td>523171</td>\n",
       "      <td>90.32</td>\n",
       "      <td>1</td>\n",
       "    </tr>\n",
       "    <tr>\n",
       "      <th>0</th>\n",
       "      <td>90659865</td>\n",
       "      <td>1.609460e+18</td>\n",
       "      <td>2021-01-01 03:51:42</td>\n",
       "      <td>2021-01-01</td>\n",
       "      <td>452831</td>\n",
       "      <td>223.11</td>\n",
       "      <td>1</td>\n",
       "    </tr>\n",
       "    <tr>\n",
       "      <th>0</th>\n",
       "      <td>90659865</td>\n",
       "      <td>1.609460e+18</td>\n",
       "      <td>2021-01-01 03:51:42</td>\n",
       "      <td>2021-01-01</td>\n",
       "      <td>303673</td>\n",
       "      <td>59.90</td>\n",
       "      <td>7</td>\n",
       "    </tr>\n",
       "    <tr>\n",
       "      <th>0</th>\n",
       "      <td>90659865</td>\n",
       "      <td>1.609460e+18</td>\n",
       "      <td>2021-01-01 03:51:42</td>\n",
       "      <td>2021-01-01</td>\n",
       "      <td>318193</td>\n",
       "      <td>319.91</td>\n",
       "      <td>2</td>\n",
       "    </tr>\n",
       "    <tr>\n",
       "      <th>...</th>\n",
       "      <td>...</td>\n",
       "      <td>...</td>\n",
       "      <td>...</td>\n",
       "      <td>...</td>\n",
       "      <td>...</td>\n",
       "      <td>...</td>\n",
       "      <td>...</td>\n",
       "    </tr>\n",
       "    <tr>\n",
       "      <th>40374</th>\n",
       "      <td>93266815</td>\n",
       "      <td>1.620119e+18</td>\n",
       "      <td>2021-06-30 23:58:09</td>\n",
       "      <td>2021-06-30</td>\n",
       "      <td>439036</td>\n",
       "      <td>17.50</td>\n",
       "      <td>1</td>\n",
       "    </tr>\n",
       "    <tr>\n",
       "      <th>40374</th>\n",
       "      <td>93266815</td>\n",
       "      <td>1.620119e+18</td>\n",
       "      <td>2021-06-30 23:58:09</td>\n",
       "      <td>2021-06-30</td>\n",
       "      <td>303765</td>\n",
       "      <td>6.56</td>\n",
       "      <td>1</td>\n",
       "    </tr>\n",
       "    <tr>\n",
       "      <th>40374</th>\n",
       "      <td>93266815</td>\n",
       "      <td>1.620119e+18</td>\n",
       "      <td>2021-06-30 23:58:09</td>\n",
       "      <td>2021-06-30</td>\n",
       "      <td>341794</td>\n",
       "      <td>69.90</td>\n",
       "      <td>1</td>\n",
       "    </tr>\n",
       "    <tr>\n",
       "      <th>40374</th>\n",
       "      <td>93266815</td>\n",
       "      <td>1.620119e+18</td>\n",
       "      <td>2021-06-30 23:58:09</td>\n",
       "      <td>2021-06-30</td>\n",
       "      <td>307216</td>\n",
       "      <td>2.99</td>\n",
       "      <td>1</td>\n",
       "    </tr>\n",
       "    <tr>\n",
       "      <th>40374</th>\n",
       "      <td>93266815</td>\n",
       "      <td>1.620119e+18</td>\n",
       "      <td>2021-06-30 23:58:09</td>\n",
       "      <td>2021-06-30</td>\n",
       "      <td>322455</td>\n",
       "      <td>9.68</td>\n",
       "      <td>1</td>\n",
       "    </tr>\n",
       "  </tbody>\n",
       "</table>\n",
       "<p>852818 rows × 7 columns</p>\n",
       "</div>"
      ],
      "text/plain": [
       "        OrderID        UserID            OrderTime       Date  ItemID   price  \\\n",
       "0      90659865  1.609460e+18  2021-01-01 03:51:42 2021-01-01  413736   36.72   \n",
       "0      90659865  1.609460e+18  2021-01-01 03:51:42 2021-01-01  523171   90.32   \n",
       "0      90659865  1.609460e+18  2021-01-01 03:51:42 2021-01-01  452831  223.11   \n",
       "0      90659865  1.609460e+18  2021-01-01 03:51:42 2021-01-01  303673   59.90   \n",
       "0      90659865  1.609460e+18  2021-01-01 03:51:42 2021-01-01  318193  319.91   \n",
       "...         ...           ...                  ...        ...     ...     ...   \n",
       "40374  93266815  1.620119e+18  2021-06-30 23:58:09 2021-06-30  439036   17.50   \n",
       "40374  93266815  1.620119e+18  2021-06-30 23:58:09 2021-06-30  303765    6.56   \n",
       "40374  93266815  1.620119e+18  2021-06-30 23:58:09 2021-06-30  341794   69.90   \n",
       "40374  93266815  1.620119e+18  2021-06-30 23:58:09 2021-06-30  307216    2.99   \n",
       "40374  93266815  1.620119e+18  2021-06-30 23:58:09 2021-06-30  322455    9.68   \n",
       "\n",
       "       quantity  \n",
       "0             2  \n",
       "0             1  \n",
       "0             1  \n",
       "0             7  \n",
       "0             2  \n",
       "...         ...  \n",
       "40374         1  \n",
       "40374         1  \n",
       "40374         1  \n",
       "40374         1  \n",
       "40374         1  \n",
       "\n",
       "[852818 rows x 7 columns]"
      ]
     },
     "execution_count": 17,
     "metadata": {},
     "output_type": "execute_result"
    }
   ],
   "source": [
    "df1.drop(columns='items')"
   ]
  },
  {
   "cell_type": "code",
   "execution_count": 18,
   "metadata": {
    "ExecuteTime": {
     "end_time": "2024-09-12T18:11:59.021254Z",
     "start_time": "2024-09-12T18:11:58.674794Z"
    }
   },
   "outputs": [],
   "source": [
    "df1[['ItemID']] = df1[['ItemID']].apply(pd.to_numeric)"
   ]
  },
  {
   "cell_type": "code",
   "execution_count": 19,
   "metadata": {
    "ExecuteTime": {
     "end_time": "2024-09-12T18:11:59.080021Z",
     "start_time": "2024-09-12T18:11:59.022308Z"
    }
   },
   "outputs": [
    {
     "name": "stdout",
     "output_type": "stream",
     "text": [
      "<class 'pandas.core.frame.DataFrame'>\n",
      "Index: 852818 entries, 0 to 40374\n",
      "Data columns (total 8 columns):\n",
      " #   Column     Non-Null Count   Dtype         \n",
      "---  ------     --------------   -----         \n",
      " 0   OrderID    852818 non-null  int64         \n",
      " 1   UserID     852818 non-null  float64       \n",
      " 2   OrderTime  852818 non-null  object        \n",
      " 3   items      852818 non-null  object        \n",
      " 4   Date       852818 non-null  datetime64[ns]\n",
      " 5   ItemID     852818 non-null  int64         \n",
      " 6   price      852818 non-null  float64       \n",
      " 7   quantity   852818 non-null  int64         \n",
      "dtypes: datetime64[ns](1), float64(2), int64(3), object(2)\n",
      "memory usage: 58.6+ MB\n"
     ]
    }
   ],
   "source": [
    "df1.info()"
   ]
  },
  {
   "cell_type": "code",
   "execution_count": 36,
   "metadata": {
    "ExecuteTime": {
     "end_time": "2024-09-12T18:19:30.284555Z",
     "start_time": "2024-09-12T18:19:30.062041Z"
    }
   },
   "outputs": [],
   "source": [
    "df2 = df1.merge(categories).groupby(['ParentCategory']).sum(['price']).sort_values(by='price', ascending=False)"
   ]
  },
  {
   "cell_type": "code",
   "execution_count": 40,
   "metadata": {
    "ExecuteTime": {
     "end_time": "2024-09-12T18:21:01.472776Z",
     "start_time": "2024-09-12T18:21:01.468800Z"
    }
   },
   "outputs": [
    {
     "data": {
      "text/plain": [
       "ParentCategory\n",
       "Мясо, птица, рыба    25027932.56\n",
       "Овощи и фрукты       20471893.58\n",
       "Бакалея              17280428.95\n",
       "Name: price, dtype: float64"
      ]
     },
     "execution_count": 40,
     "metadata": {},
     "output_type": "execute_result"
    }
   ],
   "source": [
    "df2['price'].head(3)"
   ]
  },
  {
   "cell_type": "code",
   "execution_count": 41,
   "metadata": {
    "ExecuteTime": {
     "end_time": "2024-09-12T18:21:27.722734Z",
     "start_time": "2024-09-12T18:21:26.522539Z"
    }
   },
   "outputs": [
    {
     "name": "stdout",
     "output_type": "stream",
     "text": [
      "Рекомендованный ItemID: 461361\n"
     ]
    }
   ],
   "source": [
    "from collections import defaultdict\n",
    "\n",
    "def recommend_item(order_id, orders):\n",
    "    # Получаем все ItemID для данного OrderID\n",
    "    rows = orders.query(\"OrderID == @order_id\")\n",
    "    order_items = rows['items'].values[0]\n",
    "    order_item_ids = [item['ItemID'] for item in order_items]\n",
    "    \n",
    "    # Получаем все ItemID для всех заказов\n",
    "    all_items = set()\n",
    "    for index, row in orders.iterrows():\n",
    "        items = row['items']\n",
    "        all_items.update(item['ItemID'] for item in items)\n",
    "    \n",
    "    # Рекомендуем ItemID, который еще не был выбран\n",
    "    missing_item_id = None\n",
    "    for item_id in all_items:\n",
    "        if item_id not in order_item_ids:\n",
    "            missing_item_id = item_id\n",
    "            break\n",
    "    \n",
    "    return missing_item_id\n",
    "\n",
    "# Пример использования функции\n",
    "recommended_item = recommend_item(93266815, orders)\n",
    "print(\"Рекомендованный ItemID:\", recommended_item)"
   ]
  }
 ],
 "metadata": {
  "kernelspec": {
   "display_name": "Python 3 (ipykernel)",
   "language": "python",
   "name": "python3"
  },
  "language_info": {
   "codemirror_mode": {
    "name": "ipython",
    "version": 3
   },
   "file_extension": ".py",
   "mimetype": "text/x-python",
   "name": "python",
   "nbconvert_exporter": "python",
   "pygments_lexer": "ipython3",
   "version": "3.12.3"
  },
  "notebookId": "e73e2496-374c-470d-91db-240a39c30c02",
  "notebookPath": "data/onlineShopping.ipynb"
 },
 "nbformat": 4,
 "nbformat_minor": 4
}
