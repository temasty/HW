{
  "cells": [
    {
      "cell_type": "markdown",
      "metadata": {
        "id": "G4JHX7V40jIW"
      },
      "source": [
        "# Задание 1\n"
      ]
    },
    {
      "cell_type": "markdown",
      "metadata": {
        "id": "UAqOOa3y0jIZ"
      },
      "source": [
        "1. Попробуйте используя встроенные инструменты Python проанализировать таблицу из файла \"vacancy_nh.csv\"\n",
        "В задании важно не использовать pandas и numpy, а использовать встроенные инструменты python (Counter, CSV, defaultdict, sorted)\n",
        "2. Попробуйте ответить на вопросы:\n",
        "\n",
        " * Сколько всего вакансий?\n",
        " * За какой период эти вакансии?\n",
        " * Есть ли вакансии менеджеров с использованием Python, если да сколько их?\n",
        " * Сколько вакансий для аналатика данных?\n",
        " * Сколько вакансий для аналитика данных с использованием Python?"
      ]
    },
    {
      "cell_type": "code",
      "execution_count": 1,
      "metadata": {
        "id": "5O8I6drU0jIZ"
      },
      "outputs": [],
      "source": [
        "import csv\n",
        "import sys"
      ]
    },
    {
      "cell_type": "code",
      "execution_count": 2,
      "metadata": {
        "id": "n4YIKDrV0jIa",
        "outputId": "c3ec30eb-2f93-40fd-846f-52994c00b635",
        "colab": {
          "base_uri": "https://localhost:8080/"
        }
      },
      "outputs": [
        {
          "output_type": "execute_result",
          "data": {
            "text/plain": [
              "131072"
            ]
          },
          "metadata": {},
          "execution_count": 2
        }
      ],
      "source": [
        "csv.field_size_limit(sys.maxsize)"
      ]
    },
    {
      "cell_type": "code",
      "execution_count": 4,
      "metadata": {
        "id": "RDBhnzer0jIa"
      },
      "outputs": [],
      "source": [
        "vacs = list(csv.DictReader(open('vacancy_nh.csv')))"
      ]
    },
    {
      "cell_type": "code",
      "source": [
        "from collections import Counter\n",
        "from collections import defaultdict"
      ],
      "metadata": {
        "id": "XcriZ1lT4yR7"
      },
      "execution_count": 5,
      "outputs": []
    },
    {
      "cell_type": "markdown",
      "source": [
        "1. Сколько всего вакансий? Ответ: 4002"
      ],
      "metadata": {
        "id": "eWc__w0ra52j"
      }
    },
    {
      "cell_type": "code",
      "source": [
        "len(vacs)\n"
      ],
      "metadata": {
        "colab": {
          "base_uri": "https://localhost:8080/"
        },
        "id": "ePA69pBU7poM",
        "outputId": "a267eaf5-11dd-491f-843c-559860a09302"
      },
      "execution_count": 6,
      "outputs": [
        {
          "output_type": "execute_result",
          "data": {
            "text/plain": [
              "4002"
            ]
          },
          "metadata": {},
          "execution_count": 6
        }
      ]
    },
    {
      "cell_type": "markdown",
      "source": [
        "2. За какой период эти вакансии?\n",
        "Ответ: c 15.10.2020 по 17.03.2021"
      ],
      "metadata": {
        "id": "94XW1GF4a_px"
      }
    },
    {
      "cell_type": "code",
      "source": [
        "from datetime import datetime as dt\n",
        "date_list = []\n",
        "for i in range(len(vacs)):\n",
        "  try:\n",
        "    date_list.append(dt.strptime(vacs[i]['vacdate'], '%Y-%m-%d').date())\n",
        "  except ValueError:\n",
        "    pass"
      ],
      "metadata": {
        "id": "4zhwp057Hz8e"
      },
      "execution_count": 7,
      "outputs": []
    },
    {
      "cell_type": "code",
      "source": [
        "min(date_list)"
      ],
      "metadata": {
        "colab": {
          "base_uri": "https://localhost:8080/"
        },
        "id": "NmDftpw5Ijtp",
        "outputId": "7c5bde12-e627-4b22-e23e-5cf891ddd69a"
      },
      "execution_count": 8,
      "outputs": [
        {
          "output_type": "execute_result",
          "data": {
            "text/plain": [
              "datetime.date(2020, 10, 15)"
            ]
          },
          "metadata": {},
          "execution_count": 8
        }
      ]
    },
    {
      "cell_type": "code",
      "source": [
        "max(date_list)"
      ],
      "metadata": {
        "colab": {
          "base_uri": "https://localhost:8080/"
        },
        "id": "j8r-Z6TLIsfs",
        "outputId": "a9951122-f75c-4a47-a94e-4510edc4b9ac"
      },
      "execution_count": 9,
      "outputs": [
        {
          "output_type": "execute_result",
          "data": {
            "text/plain": [
              "datetime.date(2021, 3, 17)"
            ]
          },
          "metadata": {},
          "execution_count": 9
        }
      ]
    },
    {
      "cell_type": "markdown",
      "source": [
        "3. Есть ли вакансии менеджеров с использованием Python, если да сколько их?\n",
        "Ответ: да, 5."
      ],
      "metadata": {
        "id": "SlD2MM0ebg95"
      }
    },
    {
      "cell_type": "code",
      "source": [
        "cnt = 0\n",
        "for i in range(len(vacs)):\n",
        "  if 'python' in vacs[i]['vacdescription'].lower() and 'менеджер' in vacs[i]['vactitle'].lower():\n",
        "    cnt += 1\n",
        "  else:\n",
        "    continue"
      ],
      "metadata": {
        "id": "1HWpNWlFJVr7"
      },
      "execution_count": 14,
      "outputs": []
    },
    {
      "cell_type": "code",
      "source": [
        "cnt"
      ],
      "metadata": {
        "colab": {
          "base_uri": "https://localhost:8080/"
        },
        "id": "AkNz8OCCPpVi",
        "outputId": "40923b19-9496-40df-985f-273725c10582"
      },
      "execution_count": 15,
      "outputs": [
        {
          "output_type": "execute_result",
          "data": {
            "text/plain": [
              "5"
            ]
          },
          "metadata": {},
          "execution_count": 15
        }
      ]
    },
    {
      "cell_type": "markdown",
      "source": [
        "4. Сколько вакансий для аналатика данных? Ответ: 21"
      ],
      "metadata": {
        "id": "w4suIKEIbs1n"
      }
    },
    {
      "cell_type": "code",
      "source": [
        "cnt = 0\n",
        "for i in range(len(vacs)):\n",
        "  if 'аналитик данных' in vacs[i]['vactitle'].lower():\n",
        "    cnt += 1\n",
        "  else:\n",
        "    continue"
      ],
      "metadata": {
        "id": "faM0-sQbY8gV"
      },
      "execution_count": 16,
      "outputs": []
    },
    {
      "cell_type": "code",
      "source": [
        "cnt"
      ],
      "metadata": {
        "colab": {
          "base_uri": "https://localhost:8080/"
        },
        "id": "9ziXDLzsabAA",
        "outputId": "1cbd1b23-6277-48a5-e47c-062c881621e7"
      },
      "execution_count": 17,
      "outputs": [
        {
          "output_type": "execute_result",
          "data": {
            "text/plain": [
              "21"
            ]
          },
          "metadata": {},
          "execution_count": 17
        }
      ]
    },
    {
      "cell_type": "markdown",
      "source": [
        "5. Сколько вакансий для аналитика данных с использованием Python? Ответ: 8"
      ],
      "metadata": {
        "id": "M6bPDFWRbxW-"
      }
    },
    {
      "cell_type": "code",
      "source": [
        "cnt = 0\n",
        "for i in range(len(vacs)):\n",
        "  if 'аналитик данных' in vacs[i]['vactitle'].lower() and 'python' in vacs[i]['vacdescription'].lower():\n",
        "    cnt += 1\n",
        "  else:\n",
        "    continue"
      ],
      "metadata": {
        "id": "_BvaauKqabmI"
      },
      "execution_count": null,
      "outputs": []
    },
    {
      "cell_type": "code",
      "source": [
        "cnt"
      ],
      "metadata": {
        "colab": {
          "base_uri": "https://localhost:8080/"
        },
        "id": "2RxZiCwOakR3",
        "outputId": "dcb8b5c8-e9fe-4d18-c1fa-395242bf566a"
      },
      "execution_count": null,
      "outputs": [
        {
          "output_type": "execute_result",
          "data": {
            "text/plain": [
              "8"
            ]
          },
          "metadata": {},
          "execution_count": 147
        }
      ]
    },
    {
      "cell_type": "code",
      "source": [],
      "metadata": {
        "id": "i7r1Voxqaltc"
      },
      "execution_count": null,
      "outputs": []
    }
  ],
  "metadata": {
    "kernelspec": {
      "display_name": "Python 3",
      "language": "python",
      "name": "python3"
    },
    "language_info": {
      "codemirror_mode": {
        "name": "ipython",
        "version": 3
      },
      "file_extension": ".py",
      "mimetype": "text/x-python",
      "name": "python",
      "nbconvert_exporter": "python",
      "pygments_lexer": "ipython3",
      "version": "3.9.6"
    },
    "colab": {
      "provenance": []
    }
  },
  "nbformat": 4,
  "nbformat_minor": 0
}